{
 "cells": [
  {
   "cell_type": "markdown",
   "id": "ec21b67d",
   "metadata": {},
   "source": [
    "# Part Three\n",
    "\n",
    "Part 3: Construct and export a MySQL database using your data.\n"
   ]
  },
  {
   "cell_type": "code",
   "execution_count": 1,
   "id": "0d2ee958",
   "metadata": {},
   "outputs": [],
   "source": [
    "import pandas as pd\n",
    "import seaborn as sns\n",
    "import matplotlib.pyplot as plt\n",
    "import numpy as np"
   ]
  },
  {
   "cell_type": "code",
   "execution_count": null,
   "id": "3e8188be",
   "metadata": {},
   "outputs": [],
   "source": [
    "## create a col with a list of genres\n",
    "basics['genres_split'] = basics['genres'].str.split(',')\n",
    "basics.head()\n"
   ]
  },
  {
   "cell_type": "code",
   "execution_count": null,
   "id": "b916b2d8",
   "metadata": {},
   "outputs": [],
   "source": [
    "# Explode the series using .explode() and taking only unique entries\n",
    "genres_split = basics['genres'].str.split(',')\n",
    "unique_genres = genres_split.explode().unique()\n",
    "unique_genres"
   ]
  },
  {
   "cell_type": "code",
   "execution_count": null,
   "id": "49d29b4e",
   "metadata": {},
   "outputs": [],
   "source": [
    "\n",
    "# Sorting the genre array\n",
    "unique_genres.sort()\n",
    "unique_genres"
   ]
  },
  {
   "cell_type": "code",
   "execution_count": null,
   "id": "75104c2f",
   "metadata": {},
   "outputs": [],
   "source": [
    "# saving the tconst and genres_split as a new df \n",
    "\n",
    "title_genres = exploded_genres"
   ]
  }
 ],
 "metadata": {
  "kernelspec": {
   "display_name": "Python 3 (ipykernel)",
   "language": "python",
   "name": "python3"
  },
  "language_info": {
   "codemirror_mode": {
    "name": "ipython",
    "version": 3
   },
   "file_extension": ".py",
   "mimetype": "text/x-python",
   "name": "python",
   "nbconvert_exporter": "python",
   "pygments_lexer": "ipython3",
   "version": "3.8.13"
  },
  "toc": {
   "base_numbering": 1,
   "nav_menu": {},
   "number_sections": true,
   "sideBar": true,
   "skip_h1_title": false,
   "title_cell": "Table of Contents",
   "title_sidebar": "Contents",
   "toc_cell": false,
   "toc_position": {},
   "toc_section_display": true,
   "toc_window_display": false
  }
 },
 "nbformat": 4,
 "nbformat_minor": 5
}
