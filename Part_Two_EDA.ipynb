{
 "cells": [
  {
   "cell_type": "markdown",
   "id": "26e3780e",
   "metadata": {},
   "source": [
    "# Part Two EDA\n"
   ]
  },
  {
   "cell_type": "code",
   "execution_count": 1,
   "id": "73b7f091",
   "metadata": {},
   "outputs": [],
   "source": [
    "import pandas as pd\n",
    "import seaborn as sns\n",
    "import matplotlib.pyplot as plt\n",
    "import numpy as np"
   ]
  },
  {
   "cell_type": "code",
   "execution_count": 2,
   "id": "86260293",
   "metadata": {},
   "outputs": [
    {
     "name": "stdout",
     "output_type": "stream",
     "text": [
      "1209 1293\n"
     ]
    }
   ],
   "source": [
    "# loading the data from both dataframes\n",
    "df1 = pd.read_csv('Data/final_tmdb_data_2000.csv.gz')\n",
    "df2 = pd.read_csv('Data/final_tmdb_data_2001.csv.gz')\n",
    "print(len(df1), len(df2))"
   ]
  },
  {
   "cell_type": "code",
   "execution_count": 3,
   "id": "b9c99ef3",
   "metadata": {},
   "outputs": [
    {
     "data": {
      "text/plain": [
       "2502"
      ]
     },
     "execution_count": 3,
     "metadata": {},
     "output_type": "execute_result"
    }
   ],
   "source": [
    "# concatenating both of the dataframes and showing the lenght to verify\n",
    "df = pd.concat([df1,df2])\n",
    "len(df)"
   ]
  },
  {
   "cell_type": "markdown",
   "id": "0dba8c43",
   "metadata": {},
   "source": [
    "\n",
    "## 1.How many movies had at least some valid financial information (values > 0 for budget OR revenue)?\n",
    "Please exclude any movies with 0's for budget AND revenue from the remaining visualizations.\n",
    "\n"
   ]
  },
  {
   "cell_type": "code",
   "execution_count": 6,
   "id": "9efd0559",
   "metadata": {},
   "outputs": [
    {
     "name": "stdout",
     "output_type": "stream",
     "text": [
      "There are 624 movies that had either budget or revenue that was greater than zero.\n"
     ]
    }
   ],
   "source": [
    "# creating financial filter\n",
    "bud = df['budget'] > 0\n",
    "rev = df['revenue'] > 0\n",
    "df_fin = df[rev | bud]\n",
    "df_fin\n",
    "print(f\"There are {len(df_fin)} movies that had either budget or revenue that was greater than zero.\")\n"
   ]
  },
  {
   "cell_type": "markdown",
   "id": "6acc254f",
   "metadata": {},
   "source": [
    "\n",
    "## 2. How many movies are there in each of the certification categories (G/PG/PG-13/R)?\n"
   ]
  },
  {
   "cell_type": "code",
   "execution_count": 7,
   "id": "14a719bf",
   "metadata": {},
   "outputs": [
    {
     "data": {
      "text/plain": [
       "R        228\n",
       "PG-13    130\n",
       "PG        36\n",
       "NR        17\n",
       "G         14\n",
       "Name: certification, dtype: int64"
      ]
     },
     "execution_count": 7,
     "metadata": {},
     "output_type": "execute_result"
    }
   ],
   "source": [
    "# value counts for each certification category\n",
    "df_fin['certification'].value_counts()"
   ]
  },
  {
   "cell_type": "markdown",
   "id": "0127ab18",
   "metadata": {},
   "source": [
    "## 3. What is the average revenue per certification category?"
   ]
  },
  {
   "cell_type": "code",
   "execution_count": 8,
   "id": "f3dc3799",
   "metadata": {},
   "outputs": [
    {
     "data": {
      "text/plain": [
       "certification\n",
       "G        1.237085e+08\n",
       "NR       8.887619e+06\n",
       "PG       1.092184e+08\n",
       "PG-13    9.970084e+07\n",
       "R        3.334715e+07\n",
       "Name: revenue, dtype: float64"
      ]
     },
     "execution_count": 8,
     "metadata": {},
     "output_type": "execute_result"
    }
   ],
   "source": [
    "# using groupby to calculate mean of each cert group\n",
    "df_fin.groupby(['certification'])['revenue'].mean()"
   ]
  },
  {
   "cell_type": "markdown",
   "id": "6f2c3120",
   "metadata": {},
   "source": [
    "## 4. What is the average budget per certification category?"
   ]
  },
  {
   "cell_type": "code",
   "execution_count": 9,
   "id": "c7aea46c",
   "metadata": {},
   "outputs": [
    {
     "data": {
      "text/plain": [
       "certification\n",
       "G        4.085714e+07\n",
       "NR       6.300006e+06\n",
       "PG       4.372917e+07\n",
       "PG-13    4.348391e+07\n",
       "R        1.982239e+07\n",
       "Name: budget, dtype: float64"
      ]
     },
     "execution_count": 9,
     "metadata": {},
     "output_type": "execute_result"
    }
   ],
   "source": [
    "\n",
    "# using groupby to calculate mean of each cert group\n",
    "df_fin.groupby(['certification'])['budget'].mean()\n"
   ]
  },
  {
   "cell_type": "code",
   "execution_count": 10,
   "id": "47a9adcb",
   "metadata": {},
   "outputs": [],
   "source": [
    "# saving the combined dataframe with all data \n",
    "df.to_csv(\"Data/tmdb_results_combined.csv.gz\", compression='gzip', index=False)\n",
    "\n"
   ]
  }
 ],
 "metadata": {
  "kernelspec": {
   "display_name": "Python 3 (ipykernel)",
   "language": "python",
   "name": "python3"
  },
  "language_info": {
   "codemirror_mode": {
    "name": "ipython",
    "version": 3
   },
   "file_extension": ".py",
   "mimetype": "text/x-python",
   "name": "python",
   "nbconvert_exporter": "python",
   "pygments_lexer": "ipython3",
   "version": "3.8.13"
  },
  "toc": {
   "base_numbering": 1,
   "nav_menu": {},
   "number_sections": false,
   "sideBar": true,
   "skip_h1_title": false,
   "title_cell": "Table of Contents",
   "title_sidebar": "Contents",
   "toc_cell": false,
   "toc_position": {},
   "toc_section_display": true,
   "toc_window_display": true
  }
 },
 "nbformat": 4,
 "nbformat_minor": 5
}
