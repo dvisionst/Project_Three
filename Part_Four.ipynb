{
 "cells": [
  {
   "cell_type": "code",
   "execution_count": 2,
   "id": "36ed9f94",
   "metadata": {},
   "outputs": [],
   "source": [
    "import pandas as pd\n",
    "import seaborn as sns\n",
    "import matplotlib.pyplot as plt\n",
    "import numpy as np\n",
    "import json, os, time\n",
    "import tmdbsimple as tmdb\n",
    "from tqdm.notebook import tqdm_notebook\n",
    "\n",
    "from scipy import stats\n",
    "import scipy"
   ]
  },
  {
   "cell_type": "code",
   "execution_count": 3,
   "id": "83091ae0",
   "metadata": {},
   "outputs": [
    {
     "data": {
      "text/plain": [
       "dict_keys(['api-key'])"
      ]
     },
     "execution_count": 3,
     "metadata": {},
     "output_type": "execute_result"
    }
   ],
   "source": [
    "\n",
    "with open('/Users/dvisi/.secret/tmdb_api.json', 'r') as f:\n",
    "    login = json.load(f)\n",
    "## Display the keys of the loaded dict\n",
    "login.keys()"
   ]
  },
  {
   "cell_type": "code",
   "execution_count": 4,
   "id": "fdaf3b73",
   "metadata": {},
   "outputs": [],
   "source": [
    "tmdb.API_KEY =  login['api-key']"
   ]
  },
  {
   "cell_type": "code",
   "execution_count": 5,
   "id": "5b6ff40b",
   "metadata": {},
   "outputs": [],
   "source": [
    "# creating a function that uses the movie ID in order to get the rating\n",
    "\n",
    "def get_movie_with_rating(movie_id):\n",
    "    # Get the movie object for the current id\n",
    "    movie = tmdb.Movies(movie_id)\n",
    "# save the .info .releases dictionaries\n",
    "    info = movie.info()\n",
    "    releases = movie.releases()\n",
    "# Loop through countries in releases\n",
    "    for c in releases['countries']:\n",
    "    # if the country abbreviation==US\n",
    "        if c['iso_3166_1' ] =='US':\n",
    "        ## save a \"certification\" key in the info dict with the certification\n",
    "           info['certification'] = c['certification']\n",
    "    return info"
   ]
  },
  {
   "cell_type": "code",
   "execution_count": 6,
   "id": "8fd2fced",
   "metadata": {},
   "outputs": [],
   "source": [
    "# creating a function in order to a append records to a json file\n",
    "def write_json(new_data, filename): \n",
    "    \"\"\"Appends a list of records (new_data) to a json file (filename). \n",
    "    Adapted from: https://www.geeksforgeeks.org/append-to-json-file-using-python/\"\"\"  \n",
    "    \n",
    "    with open(filename,'r+') as file:\n",
    "        # First we load existing data into a dict.\n",
    "        file_data = json.load(file)\n",
    "        ## Choose extend or append\n",
    "        if (type(new_data) == list) & (type(file_data) == list):\n",
    "            file_data.extend(new_data)\n",
    "        else:\n",
    "             file_data.append(new_data)\n",
    "        # Sets file's current position at offset.\n",
    "        file.seek(0)\n",
    "        # convert back to json.\n",
    "        json.dump(file_data, file)"
   ]
  },
  {
   "cell_type": "code",
   "execution_count": 12,
   "id": "160e4b13",
   "metadata": {},
   "outputs": [
    {
     "data": {
      "text/plain": [
       "['final_tmdb_data_2000.csv.gz',\n",
       " 'final_tmdb_data_2001.csv.gz',\n",
       " 'title_akas.csv.gz',\n",
       " 'title_basics.csv.gz',\n",
       " 'title_ratings.csv.gz',\n",
       " 'tmdb_api_results_2000.json',\n",
       " 'tmdb_api_results_2001.json',\n",
       " 'tmdb_results_combined.csv.gz']"
      ]
     },
     "execution_count": 12,
     "metadata": {},
     "output_type": "execute_result"
    }
   ],
   "source": [
    "FOLDER = \"Data/\"\n",
    "os.makedirs(FOLDER, exist_ok=True)\n",
    "os.listdir(FOLDER)"
   ]
  },
  {
   "cell_type": "code",
   "execution_count": 7,
   "id": "1e0047c0",
   "metadata": {},
   "outputs": [],
   "source": [
    "# loading the basics data\n",
    "basics = pd.read_csv('Data/title_basics.csv.gz')"
   ]
  },
  {
   "cell_type": "code",
   "execution_count": 10,
   "id": "ba630375",
   "metadata": {},
   "outputs": [],
   "source": [
    "# defining the years to get and an errors list\n",
    "\n",
    "YEARS_TO_GET = list(range(2009,2020))\n",
    "errors =[]\n"
   ]
  },
  {
   "cell_type": "code",
   "execution_count": null,
   "id": "eb429433",
   "metadata": {},
   "outputs": [
    {
     "data": {
      "application/vnd.jupyter.widget-view+json": {
       "model_id": "f8770f6e7c6a4292bc2b605b219005dd",
       "version_major": 2,
       "version_minor": 0
      },
      "text/plain": [
       "YEARS:   0%|          | 0/11 [00:00<?, ?it/s]"
      ]
     },
     "metadata": {},
     "output_type": "display_data"
    },
    {
     "data": {
      "application/vnd.jupyter.widget-view+json": {
       "model_id": "57b6853789b245f9bad7b42bb6d87b7e",
       "version_major": 2,
       "version_minor": 0
      },
      "text/plain": [
       "Movies from 2009:   0%|          | 0/3466 [00:00<?, ?it/s]"
      ]
     },
     "metadata": {},
     "output_type": "display_data"
    },
    {
     "data": {
      "application/vnd.jupyter.widget-view+json": {
       "model_id": "6ff564e073b94f5eb3966c2cd9ca0888",
       "version_major": 2,
       "version_minor": 0
      },
      "text/plain": [
       "Movies from 2010:   0%|          | 0/3773 [00:00<?, ?it/s]"
      ]
     },
     "metadata": {},
     "output_type": "display_data"
    },
    {
     "data": {
      "application/vnd.jupyter.widget-view+json": {
       "model_id": "5fb60842feff4197b7af571a16b7902d",
       "version_major": 2,
       "version_minor": 0
      },
      "text/plain": [
       "Movies from 2011:   0%|          | 0/4145 [00:00<?, ?it/s]"
      ]
     },
     "metadata": {},
     "output_type": "display_data"
    },
    {
     "data": {
      "application/vnd.jupyter.widget-view+json": {
       "model_id": "f2791030250a4e24b9cd16e015c5a9d5",
       "version_major": 2,
       "version_minor": 0
      },
      "text/plain": [
       "Movies from 2012:   0%|          | 0/4437 [00:00<?, ?it/s]"
      ]
     },
     "metadata": {},
     "output_type": "display_data"
    },
    {
     "data": {
      "application/vnd.jupyter.widget-view+json": {
       "model_id": "e47cf292833a4980b333598b33fb9810",
       "version_major": 2,
       "version_minor": 0
      },
      "text/plain": [
       "Movies from 2013:   0%|          | 0/4644 [00:00<?, ?it/s]"
      ]
     },
     "metadata": {},
     "output_type": "display_data"
    },
    {
     "data": {
      "application/vnd.jupyter.widget-view+json": {
       "model_id": "690a6f8cae2c46a687b48548b7159a0f",
       "version_major": 2,
       "version_minor": 0
      },
      "text/plain": [
       "Movies from 2014:   0%|          | 0/4784 [00:00<?, ?it/s]"
      ]
     },
     "metadata": {},
     "output_type": "display_data"
    },
    {
     "data": {
      "application/vnd.jupyter.widget-view+json": {
       "model_id": "486cf7d2cfff4663b2208ac2d48ac70c",
       "version_major": 2,
       "version_minor": 0
      },
      "text/plain": [
       "Movies from 2015:   0%|          | 0/4928 [00:00<?, ?it/s]"
      ]
     },
     "metadata": {},
     "output_type": "display_data"
    },
    {
     "data": {
      "application/vnd.jupyter.widget-view+json": {
       "model_id": "a4e06f17efc4431ca97934ee73cdfd6e",
       "version_major": 2,
       "version_minor": 0
      },
      "text/plain": [
       "Movies from 2016:   0%|          | 0/5151 [00:00<?, ?it/s]"
      ]
     },
     "metadata": {},
     "output_type": "display_data"
    },
    {
     "data": {
      "application/vnd.jupyter.widget-view+json": {
       "model_id": "448a42cb8b63470f81eea87ac3c98468",
       "version_major": 2,
       "version_minor": 0
      },
      "text/plain": [
       "Movies from 2017:   0%|          | 0/5512 [00:00<?, ?it/s]"
      ]
     },
     "metadata": {},
     "output_type": "display_data"
    },
    {
     "data": {
      "application/vnd.jupyter.widget-view+json": {
       "model_id": "4667c15234294db7b7a05bb308a44e8d",
       "version_major": 2,
       "version_minor": 0
      },
      "text/plain": [
       "Movies from 2018:   0%|          | 0/5634 [00:00<?, ?it/s]"
      ]
     },
     "metadata": {},
     "output_type": "display_data"
    },
    {
     "data": {
      "application/vnd.jupyter.widget-view+json": {
       "model_id": "7c3531a8794e431ba274adcc03c8aa90",
       "version_major": 2,
       "version_minor": 0
      },
      "text/plain": [
       "Movies from 2019:   0%|          | 0/5732 [00:00<?, ?it/s]"
      ]
     },
     "metadata": {},
     "output_type": "display_data"
    }
   ],
   "source": [
    "# Start of OUTER loop\n",
    "for YEAR in tqdm_notebook(YEARS_TO_GET, desc='YEARS', position=0):\n",
    "    #Defining the JSON file to store results for year\n",
    "    JSON_FILE = f'{FOLDER}tmdb_api_results_{YEAR}.json'\n",
    "    file_exists = os.path.isfile(JSON_FILE)\n",
    "    if file_exists == False:\n",
    "# save an empty dict with just \"imdb_id\" to the new json file.\n",
    "        with open(JSON_FILE,'w') as f:\n",
    "            json.dump([{'imdb_id':0}],f)\n",
    "    #Saving new year as the current df\n",
    "    df = basics.loc[ basics['startYear']==YEAR].copy()\n",
    "    # saving movie ids to list\n",
    "    movie_ids = df['tconst'].copy()\n",
    "    # Load existing data from json into a dataframe called \"previous_df\"\n",
    "    previous_df = pd.read_json(JSON_FILE)\n",
    "    # filter out any ids that are already in the JSON_FILE\n",
    "    movie_ids_to_get = movie_ids[~movie_ids.isin(previous_df['imdb_id'])]\n",
    "    \n",
    "        #Get index and movie id from list\n",
    "    # INNER Loop\n",
    "    for movie_id in tqdm_notebook(movie_ids_to_get,\n",
    "                                  desc=f'Movies from {YEAR}',\n",
    "                                  position=1,\n",
    "                                  leave=True):\n",
    "        try:\n",
    "            # Retrieve then data for the movie id\n",
    "            temp = get_movie_with_rating(movie_id)  \n",
    "            # Append/extend results to existing file using a pre-made function\n",
    "            write_json(temp,JSON_FILE)\n",
    "            # Short 20 ms sleep to prevent overwhelming server\n",
    "            time.sleep(0.02)\n",
    "            \n",
    "        except Exception as e:\n",
    "            errors.append([movie_id, e])\n",
    "    final_year_df = pd.read_json(JSON_FILE)\n",
    "    final_year_df.to_csv(f\"{FOLDER}final_tmdb_data_{YEAR}.csv.gz\", compression=\"gzip\", index=False)"
   ]
  },
  {
   "cell_type": "code",
   "execution_count": null,
   "id": "5e4c5011",
   "metadata": {},
   "outputs": [],
   "source": []
  }
 ],
 "metadata": {
  "kernelspec": {
   "display_name": "Python 3 (ipykernel)",
   "language": "python",
   "name": "python3"
  },
  "language_info": {
   "codemirror_mode": {
    "name": "ipython",
    "version": 3
   },
   "file_extension": ".py",
   "mimetype": "text/x-python",
   "name": "python",
   "nbconvert_exporter": "python",
   "pygments_lexer": "ipython3",
   "version": "3.8.13"
  },
  "toc": {
   "base_numbering": 1,
   "nav_menu": {},
   "number_sections": true,
   "sideBar": true,
   "skip_h1_title": false,
   "title_cell": "Table of Contents",
   "title_sidebar": "Contents",
   "toc_cell": false,
   "toc_position": {},
   "toc_section_display": true,
   "toc_window_display": false
  }
 },
 "nbformat": 4,
 "nbformat_minor": 5
}
